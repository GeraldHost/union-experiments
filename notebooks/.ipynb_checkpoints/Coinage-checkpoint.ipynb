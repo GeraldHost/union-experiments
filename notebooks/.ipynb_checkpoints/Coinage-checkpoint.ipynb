{
 "cells": [
  {
   "cell_type": "code",
   "execution_count": 416,
   "id": "aaf77162",
   "metadata": {},
   "outputs": [
    {
     "name": "stdout",
     "output_type": "stream",
     "text": [
      "total_staked: 735910771\n",
      "total_borrowed: 323733531\n",
      "total_frozen: 81588934\n"
     ]
    }
   ],
   "source": [
    "import random\n",
    "\n",
    "#random.seed(420)\n",
    "random.seed(1)\n",
    "\n",
    "\"\"\"\n",
    "- borrow_amount\n",
    "- last_repaid\n",
    "- total_staked\n",
    "- total_locked\n",
    "- staked\n",
    "\n",
    "\"\"\"\n",
    "maxBorrow = 1000000\n",
    "maxRepaid = 60 * 60 * 24 * 60 # 60 days\n",
    "overdue = maxRepaid * 0.75\n",
    "stakers = [{\"staked_amount\": random.randint(25 * maxBorrow, 35 * maxBorrow) } for i in range(25)]\n",
    "\n",
    "for i in range(len(stakers)):\n",
    "    borrowers = [{\"borrow_amount\": random.randint(1, maxBorrow), \"last_repaid\": random.randint(1, maxRepaid)} for i in range(25)]\n",
    "    stakers[i][\"borrowers\"] = borrowers\n",
    "    stakers[i][\"locked\"] = sum([borrower[\"borrow_amount\"] for borrower in borrowers])\n",
    "    stakers[i][\"frozen\"] = sum([borrower[\"borrow_amount\"] if borrower[\"last_repaid\"] > overdue else 0 for borrower in borrowers])\n",
    "    \n",
    "total_staked = sum([staker[\"staked_amount\"] for staker in stakers])\n",
    "total_borrowed = sum([sum([borrower[\"borrow_amount\"] for borrower in staker[\"borrowers\"]]) for staker in stakers])\n",
    "total_frozen = sum([staker[\"frozen\"] for staker in stakers])\n",
    "\n",
    "print(f\"total_staked: {total_staked}\")\n",
    "print(f\"total_borrowed: {total_borrowed}\")\n",
    "print(f\"total_frozen: {total_frozen}\")"
   ]
  },
  {
   "cell_type": "code",
   "execution_count": 417,
   "id": "82a4992b",
   "metadata": {},
   "outputs": [],
   "source": [
    "\"\"\"\n",
    "Add outliers\n",
    "\"\"\"\n",
    "out_1 = {\n",
    "    'staked_amount': 1000000,\n",
    "    'borrowers': [{'borrow_amount': 1000000, 'last_repaid': 60 * 60 * 24 * 60}],\n",
    "    'locked': 1000000,\n",
    "    'frozen': 0}\n",
    "\n",
    "out_2 = {\n",
    "    'staked_amount': 1000000,\n",
    "    'borrowers': [{'borrow_amount': 1, 'last_repaid': 60 * 60 * 24 * 60}],\n",
    "    'locked': 0,\n",
    "    'frozen': 0}\n",
    "\n",
    "out_3 = {\n",
    "    'staked_amount': 2,\n",
    "    'borrowers': [{'borrow_amount': 1, 'last_repaid': 0}],\n",
    "    'locked': 1,\n",
    "    'frozen': 0}\n",
    "\n",
    "stakers.append(out_1)"
   ]
  },
  {
   "cell_type": "code",
   "execution_count": 418,
   "id": "8bfba708",
   "metadata": {},
   "outputs": [],
   "source": [
    "\"\"\"\n",
    "Calculate multipliers the old way\n",
    "\n",
    "function _getRewardsMultiplier(\n",
    "    uint256 userStaked,\n",
    "    uint256 lockedStake,\n",
    "    uint256 totalFrozen_,\n",
    "    bool isMember_\n",
    ") private pure returns (uint256) {\n",
    "    if (!isMember_) {\n",
    "        return nonMemberRatio;\n",
    "    }\n",
    "        \n",
    "    if (userStaked == 0 || totalFrozen_ >= lockedStake || totalFrozen_ >= userStaked) {\n",
    "        return memberRatio;\n",
    "    }\n",
    "\n",
    "    uint256 effectiveLockedAmount = lockedStake - totalFrozen_;\n",
    "    uint256 effectiveStakeAmount = userStaked - totalFrozen_;\n",
    "\n",
    "    uint256 lendingRatio = effectiveLockedAmount.wadDiv(effectiveStakeAmount);\n",
    "\n",
    "    return lendingRatio + memberRatio;\n",
    "}\n",
    "\n",
    "\"\"\"\n",
    "member_ratio = 1\n",
    "\n",
    "def getRewardsMultiplier(staked, locked_stake, frozen_stake):\n",
    "    if staked == 0 or frozen_stake >= locked_stake or frozen_stake >= staked:\n",
    "        return member_ratio\n",
    "    \n",
    "    effective_locked_amount = locked_stake - frozen_stake\n",
    "    effective_stake_amount = staked - frozen_stake\n",
    "    \n",
    "    lending_ratio = effective_locked_amount / effective_stake_amount\n",
    "    \n",
    "    return lending_ratio + member_ratio\n",
    "\n",
    "for staker in stakers:\n",
    "    staker[\"old_multiplier\"] = getRewardsMultiplier(staker[\"staked_amount\"], staker[\"locked\"], staker[\"frozen\"])"
   ]
  },
  {
   "cell_type": "code",
   "execution_count": 419,
   "id": "73ceae07",
   "metadata": {
    "scrolled": true
   },
   "outputs": [
    {
     "name": "stdout",
     "output_type": "stream",
     "text": [
      "total_coinage: 839164521206373\n"
     ]
    }
   ],
   "source": [
    "\"\"\"\n",
    "Calculate multipliers the new way\n",
    "\n",
    "1 2 3 4 5 6 7 8 9\n",
    "    |   |       |\n",
    "    \n",
    "(5 - 3) / (9 - 3) = 0.16666\n",
    "\"\"\"\n",
    "import math\n",
    "\n",
    "# first we calculate each stakers coinage\n",
    "for staker in stakers:\n",
    "    staker[\"coinage\"] = sum([borrower[\"borrow_amount\"] * borrower[\"last_repaid\"] for borrower in staker[\"borrowers\"]])\n",
    "\n",
    "total_coinage = sum([staker[\"coinage\"] for staker in stakers])\n",
    "print(f\"total_coinage: {total_coinage}\")\n",
    "\n",
    "def getRewardsMultiplierNew(coinage, staked, locked):\n",
    "    # TODO: what about staked vs total staked\n",
    "    # TODO: what about locked value\n",
    "    ave_coinage = total_coinage / len(stakers)\n",
    "    lo = ave_coinage - (2*ave_coinage)\n",
    "    hi = ave_coinage + (2*ave_coinage)\n",
    "    coinage = min(max(lo, coinage), hi)\n",
    "    \n",
    "    k = ((coinage - lo) / (hi - lo))\n",
    "    j = locked / staked\n",
    "    \n",
    "    return 1 + (1 * ((j+k)/2))\n",
    "    \n",
    "for staker in stakers:\n",
    "    staker[\"new_multiplier\"] = getRewardsMultiplierNew(staker[\"coinage\"], staker[\"staked_amount\"], staker[\"locked\"])"
   ]
  },
  {
   "cell_type": "code",
   "execution_count": 420,
   "id": "20126dcd",
   "metadata": {},
   "outputs": [
    {
     "name": "stdout",
     "output_type": "stream",
     "text": [
      "diffs: 3\n",
      "----\n",
      "IDX:1 staked: 27254257, locked: 15919119, frozen: 4957251, old_mul: 1.49, new_mul: 1.58\n",
      "IDX:0 staked: 1000000, locked: 1000000, frozen: 0, old_mul: 2.00, new_mul: 1.65\n",
      "----\n",
      "IDX:1 staked: 28522457, locked: 12740404, frozen: 2752579, old_mul: 1.39, new_mul: 1.45\n",
      "IDX:0 staked: 31368886, locked: 11083207, frozen: 4470980, old_mul: 1.25, new_mul: 1.45\n",
      "----\n",
      "IDX:1 staked: 32260626, locked: 12991113, frozen: 3882743, old_mul: 1.32, new_mul: 1.46\n",
      "IDX:0 staked: 31539906, locked: 12938560, frozen: 881768, old_mul: 1.39, new_mul: 1.44\n",
      "----\n"
     ]
    },
    {
     "data": {
      "image/png": "[encoded data removed]",
      "text/plain": [
       "<Figure size 1080x576 with 1 Axes>"
      ]
     },
     "metadata": {
      "needs_background": "light"
     },
     "output_type": "display_data"
    }
   ],
   "source": [
    "import matplotlib.pyplot as plt\n",
    "\n",
    "debug = False\n",
    "plt.figure(figsize=(15,8))\n",
    "\n",
    "diffs=[]\n",
    "step = 3\n",
    "for i in range(0, len(stakers) * 3, step):\n",
    "    idx = int(i/step)\n",
    "    \n",
    "    old = stakers[idx]['old_multiplier']\n",
    "    old_b = stakers[idx-step]['old_multiplier']\n",
    "\n",
    "    new = stakers[idx]['new_multiplier']\n",
    "    new_b = stakers[idx-step]['new_multiplier']\n",
    "    \n",
    "    color=\"black\"\n",
    "    if (old > old_b and new < new_b) or (old < old_b and new > new_b):\n",
    "        diffs.append({ \"c\": stakers[idx], \"p\": stakers[idx-1]})\n",
    "        color=\"red\"\n",
    "            \n",
    "    plt.bar(i, old, 1, color=\"blue\")\n",
    "    plt.bar(i+1, new, 1, color=color)\n",
    "    if debug:\n",
    "        print(\"------\")\n",
    "        print(f\"old_multiplier: {staker['old_multiplier']}\")\n",
    "        print(f\"new_multiplier: {staker['new_multiplier']}\")\n",
    "\n",
    "print(f\"diffs: {len(diffs)}\")\n",
    "print(\"----\")\n",
    "for diff in diffs:\n",
    "    print(f\"IDX:1 staked: {diff['c']['staked_amount']}, locked: {diff['c']['locked']}, frozen: {diff['c']['frozen']}, old_mul: {diff['c']['old_multiplier']:.2f}, new_mul: {diff['c']['new_multiplier']:.2f}\")\n",
    "    print(f\"IDX:0 staked: {diff['p']['staked_amount']}, locked: {diff['p']['locked']}, frozen: {diff['p']['frozen']}, old_mul: {diff['p']['old_multiplier']:.2f}, new_mul: {diff['p']['new_multiplier']:.2f}\")\n",
    "    print(\"----\")"
   ]
  },
  {
   "cell_type": "code",
   "execution_count": null,
   "id": "1b5e12af",
   "metadata": {},
   "outputs": [],
   "source": []
  },
  {
   "cell_type": "code",
   "execution_count": null,
   "id": "ce42362d",
   "metadata": {},
   "outputs": [],
   "source": []
  }
 ],
 "metadata": {
  "kernelspec": {
   "display_name": "Python 3 (ipykernel)",
   "language": "python",
   "name": "python3"
  },
  "language_info": {
   "codemirror_mode": {
    "name": "ipython",
    "version": 3
   },
   "file_extension": ".py",
   "mimetype": "text/x-python",
   "name": "python",
   "nbconvert_exporter": "python",
   "pygments_lexer": "ipython3",
   "version": "3.9.8"
  }
 },
 "nbformat": 4,
 "nbformat_minor": 5
}
