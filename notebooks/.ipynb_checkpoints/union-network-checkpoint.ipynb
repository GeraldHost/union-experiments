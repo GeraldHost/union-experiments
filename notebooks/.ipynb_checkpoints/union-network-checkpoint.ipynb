{
 "cells": [
  {
   "cell_type": "markdown",
   "id": "068f8693",
   "metadata": {},
   "source": [
    "# Union Simulation\n",
    "\n",
    "What do we actually want to do here? We want to understand how the network and liqudity is consumed by the network.\n",
    "We need to loop a bunch of times, select a random agents, select a random action and select random inputs for said action. \n",
    "\n",
    "Things we want to measure\n",
    "- total liqidity (pool balance - total borrowed)\n",
    "- total members (with at least \"effective_number\" of vouches)\n",
    "- total_borrowed\n",
    "- total_repaid"
   ]
  },
  {
   "cell_type": "code",
   "execution_count": 178,
   "id": "288d690c",
   "metadata": {},
   "outputs": [],
   "source": [
    "%matplotlib inline  \n",
    "\n",
    "import random\n",
    "import matplotlib.pyplot as plt\n",
    "\n",
    "agents = 100\n",
    "effective_number = 1\n",
    "\n",
    "borrow_probability = 100\n",
    "vouch_probability = 100\n",
    "repay_probability = 100\n",
    "stake_probability = 100\n",
    "\n",
    "max_stake = 100\n",
    "max_vouch = 1000\n",
    "max_borrow = 1000 \n",
    "min_borrow = 100\n",
    "max_repay = 1000\n",
    "min_repay = 500"
   ]
  },
  {
   "cell_type": "code",
   "execution_count": 179,
   "id": "84e3cb7b",
   "metadata": {},
   "outputs": [],
   "source": [
    "action_names = [\"borrow\", \"repay\", \"stake\", \"vouch\"]\n",
    "\n",
    "actions = {\n",
    "    \"borrow\": {\n",
    "        \"probability\": borrow_probability,\n",
    "        \"min\": min_borrow,\n",
    "        \"max\": max_borrow,\n",
    "    },\n",
    "    \"repay\": {\n",
    "        \"probability\": repay_probability,\n",
    "        \"min\": min_repay,\n",
    "        \"max\": max_repay,\n",
    "    },\n",
    "    \"stake\": {\n",
    "        \"probability\": stake_probability,\n",
    "        \"max\": max_stake\n",
    "    },\n",
    "    \"vouch\": {\n",
    "        \"probability\": vouch_probability,\n",
    "        \"max\": max_vouch\n",
    "    }\n",
    "}"
   ]
  },
  {
   "cell_type": "markdown",
   "id": "6f755324",
   "metadata": {},
   "source": [
    "# Simulation"
   ]
  },
  {
   "cell_type": "code",
   "execution_count": 201,
   "id": "66be6b9e",
   "metadata": {},
   "outputs": [
    {
     "ename": "AssertionError",
     "evalue": "",
     "output_type": "error",
     "traceback": [
      "\u001b[0;31m---------------------------------------------------------------------------\u001b[0m",
      "\u001b[0;31mAssertionError\u001b[0m                            Traceback (most recent call last)",
      "Input \u001b[0;32mIn [201]\u001b[0m, in \u001b[0;36m<cell line: 67>\u001b[0;34m()\u001b[0m\n\u001b[1;32m     88\u001b[0m     borrows[staker][borrower] \u001b[38;5;241m=\u001b[39m amount           \n\u001b[1;32m     89\u001b[0m \u001b[38;5;28;01melif\u001b[39;00m action_name \u001b[38;5;241m==\u001b[39m \u001b[38;5;124m\"\u001b[39m\u001b[38;5;124mrepay\u001b[39m\u001b[38;5;124m\"\u001b[39m:\n\u001b[0;32m---> 90\u001b[0m     outstanding \u001b[38;5;241m=\u001b[39m \u001b[43mget_outstanding\u001b[49m\u001b[43m(\u001b[49m\u001b[43mborrower\u001b[49m\u001b[43m,\u001b[49m\u001b[43m \u001b[49m\u001b[43mstaker\u001b[49m\u001b[43m)\u001b[49m\n\u001b[1;32m     91\u001b[0m     amount \u001b[38;5;241m=\u001b[39m \u001b[38;5;28mmin\u001b[39m([outstanding, amount])\n\u001b[1;32m     92\u001b[0m     repays[staker][borrower] \u001b[38;5;241m=\u001b[39m amount\n",
      "Input \u001b[0;32mIn [201]\u001b[0m, in \u001b[0;36mget_outstanding\u001b[0;34m(borrower, staker)\u001b[0m\n\u001b[1;32m     44\u001b[0m \u001b[38;5;66;03m# get repaid\u001b[39;00m\n\u001b[1;32m     45\u001b[0m n_repaid \u001b[38;5;241m=\u001b[39m repays[staker][borrower] \u001b[38;5;28;01mif\u001b[39;00m borrower \u001b[38;5;129;01min\u001b[39;00m repays[staker] \u001b[38;5;28;01melse\u001b[39;00m \u001b[38;5;241m0\u001b[39m\n\u001b[0;32m---> 47\u001b[0m \u001b[38;5;28;01massert\u001b[39;00m(n_borrowed \u001b[38;5;241m-\u001b[39m n_repaid \u001b[38;5;241m>\u001b[39m\u001b[38;5;241m=\u001b[39m \u001b[38;5;241m0\u001b[39m)\n\u001b[1;32m     48\u001b[0m \u001b[38;5;28;01mreturn\u001b[39;00m n_borrowed \u001b[38;5;241m-\u001b[39m n_repaid\n",
      "\u001b[0;31mAssertionError\u001b[0m: "
     ]
    }
   ],
   "source": [
    "simulation = []\n",
    "connections = []\n",
    "\n",
    "stakes = [0 for _ in range(agents)]\n",
    "vouches = [{} for _ in range(agents)]\n",
    "borrows = [{} for _ in range(agents)]\n",
    "repays = [{} for _ in range(agents)]\n",
    "\n",
    "snapshots_per_epoch = []\n",
    "\n",
    "def get_total_borrowed():\n",
    "    return sum(item[\"amount\"] if item[\"action\"] == \"borrow\" else 0 for item in simulation)\n",
    "\n",
    "def get_total_repaid():\n",
    "    return sum(item[\"amount\"] if item[\"action\"] == \"repay\" else 0 for item in simulation)\n",
    "\n",
    "def get_total_vouches(agent):\n",
    "    n_vouches = 0\n",
    "    for i, vouch in enumerate(vouches):\n",
    "        if \"borrower\" in vouch and vouch[\"borrower\"] == agent:\n",
    "            n_vouches+=1\n",
    "    return n_vouches\n",
    "\n",
    "def get_total_members():\n",
    "    sum(int(get_total_vouches(agent)) for agent in range(agents))\n",
    "\n",
    "def get_total_staked():\n",
    "    return sum(item[\"amount\"] if item[\"action\"] == \"stake\" else 0 for item in simulation)\n",
    "\n",
    "def get_total_liquidity():\n",
    "    return get_total_staked() - (get_total_borrowed() - get_total_repaid())\n",
    "\n",
    "def get_credit_limit(borrower_agent):\n",
    "    credit_limit = 0\n",
    "    for agent, vouch in enumerate(vouches):\n",
    "        if borrower_agent in vouch:\n",
    "            staked = stakes[agent]\n",
    "            credit_limit += min(staked, vouch[borrower_agent])\n",
    "    return credit_limit\n",
    "\n",
    "def get_outstanding(borrower, staker):\n",
    "    # get borrowed\n",
    "    n_borrowed = borrows[staker][borrower] if borrower in borrows[staker] else 0\n",
    "    # get repaid\n",
    "    n_repaid = repays[staker][borrower] if borrower in repays[staker] else 0\n",
    "    \n",
    "    assert(n_borrowed - n_repaid >= 0)\n",
    "    return n_borrowed - n_repaid\n",
    "\n",
    "def get_total_outstanding(borrower):\n",
    "    # get borrowed\n",
    "    n_borrowed = 0\n",
    "    for borrowers in borrows:\n",
    "        if borrower in borrowers:\n",
    "            n_borrowed += borrowers[borrower]\n",
    "            \n",
    "    # get repaid\n",
    "    n_repaid = 0\n",
    "    for repayers in repays:\n",
    "        if borrower in repayers:\n",
    "            n_repaid += repayers[borrower]\n",
    "    \n",
    "    assert(n_borrowed - n_repaid >= 0)\n",
    "    return n_borrowed - n_repaid\n",
    "    \n",
    "\n",
    "for i in range(5000):\n",
    "    action_name = action_names[random.randint(0,3)]\n",
    "    action = actions[action_name]\n",
    "    \n",
    "    do_action = random.randint(0,100) < action[\"probability\"]\n",
    "    \n",
    "    staker = random.randint(0, agents - 1)\n",
    "    borrower = random.randint(0, agents - 1)\n",
    "    amount = random.randint(0, action[\"max\"])\n",
    "    \n",
    "    if do_action: \n",
    "        if action_name == \"vouch\":\n",
    "            connections.append({ \"staker\": staker, \"borrower\": borrower })\n",
    "            if borrower not in vouches[staker]:\n",
    "                vouches[staker][borrower] = amount\n",
    "        elif action_name == \"stake\":\n",
    "            stakes[staker] += amount \n",
    "        elif action_name == \"borrow\":\n",
    "            credit_limit = get_credit_limit(borrower)\n",
    "            outstanding = get_total_outstanding(borrower)\n",
    "            amount = min([amount, credit_limit - outstanding])\n",
    "            borrows[staker][borrower] = amount           \n",
    "        elif action_name == \"repay\":\n",
    "            outstanding = get_outstanding(borrower, staker)\n",
    "            amount = min([outstanding, amount])\n",
    "            repays[staker][borrower] = amount\n",
    "        \n",
    "        simulation.append({\n",
    "            \"action\": action_name,\n",
    "            \"amount\": amount,\n",
    "            \"total_borrowed\": get_total_borrowed(),\n",
    "            \"total_repaid\": get_total_repaid(),\n",
    "            \"total_members\": get_total_members(),\n",
    "            \"total_liquidity\": get_total_liquidity(),\n",
    "        })"
   ]
  },
  {
   "cell_type": "markdown",
   "id": "c8a4d069",
   "metadata": {},
   "source": [
    "## Graphs"
   ]
  },
  {
   "cell_type": "code",
   "execution_count": 198,
   "id": "69f8ace6",
   "metadata": {},
   "outputs": [
    {
     "data": {
      "image/png": "[encoded data removed]",
      "text/plain": [
       "<Figure size 432x288 with 1 Axes>"
      ]
     },
     "metadata": {
      "needs_background": "light"
     },
     "output_type": "display_data"
    }
   ],
   "source": [
    "import matplotlib.pyplot as plt\n",
    "\n",
    "y_total_liquidity = [item[\"total_liquidity\"] for item in simulation]\n",
    "x_epochs = [i for i, _ in enumerate(simulation)]\n",
    "\n",
    "plt.plot(x_epochs, y_total_liquidity)\n",
    "plt.xlabel(\"epochs\")\n",
    "plt.ylabel(\"total liquidity\")\n",
    "plt.title(\"Total Liquidity\")\n",
    "plt.show()"
   ]
  },
  {
   "cell_type": "code",
   "execution_count": 199,
   "id": "99a21095",
   "metadata": {},
   "outputs": [
    {
     "data": {
      "image/png": "[encoded data removed]",
      "text/plain": [
       "<Figure size 432x288 with 1 Axes>"
      ]
     },
     "metadata": {
      "needs_background": "light"
     },
     "output_type": "display_data"
    }
   ],
   "source": [
    "y_total_liquidity = [item[\"total_borrowed\"] for item in simulation]\n",
    "x_epochs = [i for i, _ in enumerate(simulation)]\n",
    "\n",
    "plt.plot(x_epochs, y_total_liquidity)\n",
    "plt.xlabel(\"epochs\")\n",
    "plt.ylabel(\"total borrowed\")\n",
    "plt.title(\"Total Borrowed\")\n",
    "plt.show()"
   ]
  },
  {
   "cell_type": "code",
   "execution_count": 200,
   "id": "d88d8c3d",
   "metadata": {},
   "outputs": [
    {
     "data": {
      "image/png": "[encoded data removed]",
      "text/plain": [
       "<Figure size 432x288 with 1 Axes>"
      ]
     },
     "metadata": {
      "needs_background": "light"
     },
     "output_type": "display_data"
    }
   ],
   "source": [
    "y_total_liquidity = [item[\"total_repaid\"] for item in simulation]\n",
    "x_epochs = [i for i, _ in enumerate(simulation)]\n",
    "\n",
    "plt.plot(x_epochs, y_total_liquidity)\n",
    "plt.xlabel(\"epochs\")\n",
    "plt.ylabel(\"total repaid\")\n",
    "plt.title(\"Total Repaid\")\n",
    "plt.show()"
   ]
  },
  {
   "cell_type": "code",
   "execution_count": null,
   "id": "8eb05b47",
   "metadata": {},
   "outputs": [],
   "source": []
  }
 ],
 "metadata": {
  "kernelspec": {
   "display_name": "Python 3 (ipykernel)",
   "language": "python",
   "name": "python3"
  },
  "language_info": {
   "codemirror_mode": {
    "name": "ipython",
    "version": 3
   },
   "file_extension": ".py",
   "mimetype": "text/x-python",
   "name": "python",
   "nbconvert_exporter": "python",
   "pygments_lexer": "ipython3",
   "version": "3.9.8"
  }
 },
 "nbformat": 4,
 "nbformat_minor": 5
}
