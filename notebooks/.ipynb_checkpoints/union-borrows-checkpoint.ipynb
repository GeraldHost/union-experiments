{
 "cells": [
  {
   "cell_type": "markdown",
   "id": "a21e8679",
   "metadata": {},
   "source": [
    "# Calculating Total Locked\n",
    "\n",
    "Is is possible to create a gas effecient upperbound to what the amount locked should be based on averaged. If we know the average last repaid timestamp and average amount borrowed then we will be able to calculate the average amount locked. \n",
    "\n",
    "Does this raise an issue with the fact that outliers can skew these averages dramatically. And if so how accurate could a max locked value be? Would this create other issues."
   ]
  },
  {
   "cell_type": "code",
   "execution_count": 109,
   "id": "c3d737f8",
   "metadata": {},
   "outputs": [],
   "source": [
    "import random\n",
    "\n",
    "useEdgeCases = False\n",
    "staked_amount = 10000000\n",
    "vouch_amount = 1000\n",
    "borrow_amount = 1000\n",
    "interest = 0.0001\n",
    "last_repaid = 50 # block number\n",
    "starting_block = 50 # block number\n",
    "\n",
    "borrowers = []\n",
    "\n",
    "for i in range(10): \n",
    "    borrow = random.randint(1, borrow_amount)\n",
    "    \n",
    "    block_delta = starting_block - borrower[\"last_repaid\"]\n",
    "    interest_owed = block_delta * (borrow * interest)\n",
    "    \n",
    "    borrowers.append({ \n",
    "        \"borrow_amount\": borrow, \n",
    "        \"vouch_amount\": random.randint(borrow, vouch_amount),\n",
    "        \"last_repaid\": random.randint(1, last_repaid),\n",
    "        \"interest_owed\": interest_owed\n",
    "    })\n",
    "\n",
    "# add an edge cases\n",
    "if useEdgeCases:\n",
    "    borrowers.append({\n",
    "        \"borrow_amount\": 1000000,\n",
    "        \"vouch_amount\": 100,\n",
    "        \"last_repaid\": 1,\n",
    "        \"interest_owed\": (starting_block - 1) * (1000000 * interest)\n",
    "    })\n",
    "\n",
    "def pretty_print(label, value):\n",
    "    print(label.ljust(22, ' ') + \" \" + str(round(value,2)))"
   ]
  },
  {
   "cell_type": "markdown",
   "id": "166bd14a",
   "metadata": {},
   "source": [
    "## Total Locked (actual)"
   ]
  },
  {
   "cell_type": "code",
   "execution_count": 110,
   "id": "db81950d",
   "metadata": {},
   "outputs": [
    {
     "name": "stdout",
     "output_type": "stream",
     "text": [
      "total interest:        27.44\n",
      "ave interest:          2.74\n",
      "total borrowed:        5599\n",
      "total locked:          5626.44\n",
      "error:                 0.0\n"
     ]
    }
   ],
   "source": [
    "interest_total = sum(borrower['interest_owed'] for borrower in borrowers)\n",
    "interest_average = interest_total / len(borrowers)\n",
    "\n",
    "borrow_total = sum(borrower['borrow_amount'] for borrower in borrowers)\n",
    "borrow_average = borrow_total / len(borrowers)\n",
    "total_locked = borrow_total+interest_total\n",
    "\n",
    "pretty_print(\"total interest:\", interest_total)\n",
    "pretty_print(\"ave interest:\", interest_average)\n",
    "pretty_print(\"total borrowed:\", borrow_total)\n",
    "pretty_print(\"total locked:\", total_locked)\n",
    "pretty_print(\"error:\", total_locked - total_locked)"
   ]
  },
  {
   "cell_type": "markdown",
   "id": "e7008c45",
   "metadata": {},
   "source": [
    "## Total Locked (min)\n",
    "\n",
    "We assume that all borrowers are borrowing the **minimum** and all borrowers are the **minimum** number of blocks since their last repayment. This value would cover unreasonably **below** the actual locked amount."
   ]
  },
  {
   "cell_type": "code",
   "execution_count": 111,
   "id": "75061de0",
   "metadata": {},
   "outputs": [
    {
     "name": "stdout",
     "output_type": "stream",
     "text": [
      "min borrow amount:     82\n",
      "min interest owed:     0.66\n",
      "min total locked:      826.56\n",
      "error:                 4799.88\n"
     ]
    }
   ],
   "source": [
    "max_last_repaid = max(borrower['last_repaid'] for borrower in borrowers)\n",
    "min_borrow_amount = min(borrower['borrow_amount'] for borrower in borrowers)\n",
    "min_repaid_delta = starting_block - max_last_repaid\n",
    "min_interest_owed = min_repaid_delta * (min_borrow_amount * interest) * len(borrowers)\n",
    "min_total_locked = (min_borrow_amount + min_interest_owed) * len(borrowers)\n",
    "\n",
    "pretty_print(\"min borrow amount:\", min_borrow_amount)\n",
    "pretty_print(\"min interest owed:\", min_interest_owed)\n",
    "pretty_print(\"min total locked:\", min_total_locked)\n",
    "pretty_print(\"error:\", total_locked - min_total_locked)"
   ]
  },
  {
   "cell_type": "markdown",
   "id": "f572dfb7",
   "metadata": {},
   "source": [
    "## Total Locked (max)\n",
    "\n",
    "We assume that all borrowers are borrowing the **maximum** and all borrowers are the **maximum** number of blocks since their last repayment. This value would cover unreasonably **beyond** the actual locked amount."
   ]
  },
  {
   "cell_type": "code",
   "execution_count": 112,
   "id": "23e87fb9",
   "metadata": {},
   "outputs": [
    {
     "name": "stdout",
     "output_type": "stream",
     "text": [
      "min borrow amount:     972\n",
      "min interest owed:     4.76\n",
      "min total locked:      9767.63\n",
      "error:                 -4141.19\n"
     ]
    }
   ],
   "source": [
    "min_last_repaid = min(int(borrower['last_repaid']) for borrower in borrowers)\n",
    "max_borrow_amount = max(borrower['borrow_amount'] for borrower in borrowers)\n",
    "max_repaid_delta = starting_block - min_last_repaid\n",
    "max_interest_owed = max_repaid_delta * (max_borrow_amount * interest)\n",
    "max_total_locked = (max_borrow_amount + max_interest_owed) * len(borrowers)\n",
    "\n",
    "pretty_print(\"min borrow amount:\", max_borrow_amount)\n",
    "pretty_print(\"min interest owed:\", max_interest_owed)\n",
    "pretty_print(\"min total locked:\", max_total_locked)\n",
    "pretty_print(\"error:\", total_locked - max_total_locked)"
   ]
  },
  {
   "cell_type": "markdown",
   "id": "3027310b",
   "metadata": {},
   "source": [
    "## Total Locked (average)\n",
    "\n",
    "While using the average gives us a more reasonable value for the locked amount it can skew less than what actually should be locked which could create an attack vector as we would have loans that are backed by less than the borrow"
   ]
  },
  {
   "cell_type": "code",
   "execution_count": 113,
   "id": "125241f2",
   "metadata": {},
   "outputs": [
    {
     "name": "stdout",
     "output_type": "stream",
     "text": [
      "ave borrow amount:     527.0\n",
      "ave interest owed:     1.13\n",
      "ave total locked:      5281.33\n",
      "error:                 345.1\n"
     ]
    }
   ],
   "source": [
    "ave_last_repaid = (min_last_repaid + max_last_repaid) / 2\n",
    "ave_borrow_amount = (min_borrow_amount + max_borrow_amount) / 2\n",
    "ave_repaid_delta = starting_block - ave_last_repaid\n",
    "ave_interest_owed = ave_last_repaid * (ave_borrow_amount * interest)\n",
    "ave_total_locked = (ave_borrow_amount + ave_interest_owed) * len(borrowers)\n",
    "\n",
    "pretty_print(\"ave borrow amount:\", ave_borrow_amount)\n",
    "pretty_print(\"ave interest owed:\", ave_interest_owed)\n",
    "pretty_print(\"ave total locked:\", ave_total_locked)\n",
    "pretty_print(\"error:\", total_locked - ave_total_locked)"
   ]
  },
  {
   "cell_type": "markdown",
   "id": "f265e4eb",
   "metadata": {},
   "source": [
    "## Total Locked (average borrow max repaid delta)"
   ]
  },
  {
   "cell_type": "code",
   "execution_count": 114,
   "id": "e2d35802",
   "metadata": {},
   "outputs": [
    {
     "name": "stdout",
     "output_type": "stream",
     "text": [
      "ave borrow amount:     527.0\n",
      "ave interest owed:     2.21\n",
      "ave total locked:      5292.13\n",
      "error:                 334.3\n"
     ]
    }
   ],
   "source": [
    "alt_ave_interest_owed = max_last_repaid * (ave_borrow_amount * interest)\n",
    "alt_ave_total_locked = (ave_borrow_amount + alt_ave_interest_owed) * len(borrowers)\n",
    "\n",
    "pretty_print(\"ave borrow amount:\", ave_borrow_amount)\n",
    "pretty_print(\"ave interest owed:\", alt_ave_interest_owed)\n",
    "pretty_print(\"ave total locked:\", alt_ave_total_locked)\n",
    "pretty_print(\"error:\", total_locked - alt_ave_total_locked)"
   ]
  },
  {
   "cell_type": "markdown",
   "id": "53929523",
   "metadata": {},
   "source": [
    "## Notes\n",
    "\n",
    "In a perfect world where there are no outliers something like this could work. However if we consider there may be wide outliers this does't work as well. Next step would be to investigate if we could reduce the range of an outlier. While I can't see a path for making the range of `borrow_amount` smaller, it is clear that you could reduce the range of `repaid_delta` by forcing people to call `writeOff` on loans that have gone outside a certain `repaid_delta` range."
   ]
  }
 ],
 "metadata": {
  "kernelspec": {
   "display_name": "Python 3 (ipykernel)",
   "language": "python",
   "name": "python3"
  },
  "language_info": {
   "codemirror_mode": {
    "name": "ipython",
    "version": 3
   },
   "file_extension": ".py",
   "mimetype": "text/x-python",
   "name": "python",
   "nbconvert_exporter": "python",
   "pygments_lexer": "ipython3",
   "version": "3.9.12"
  }
 },
 "nbformat": 4,
 "nbformat_minor": 5
}
