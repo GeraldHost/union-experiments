{
 "cells": [
  {
   "cell_type": "code",
   "execution_count": 1,
   "id": "c3d737f8",
   "metadata": {},
   "outputs": [],
   "source": [
    "staked_amount = 10000\n",
    "vouch_amount = 100\n",
    "borrow_amount = 100\n",
    "interest = 0.01\n",
    "last_repaid = 3 # block number\n",
    "\n",
    "borrowers = []\n",
    "\n",
    "for i in range(10): \n",
    "    borrowers.append({ \n",
    "        \"borrow_amount\": borrow_amount, \n",
    "        \"vouch_amount\": vouch_amount,\n",
    "        \"last_repaid\": last_repaid,\n",
    "    })"
   ]
  },
  {
   "cell_type": "code",
   "execution_count": 2,
   "id": "5357a27c",
   "metadata": {},
   "outputs": [],
   "source": [
    "starting_block = 15 # block number\n",
    "\n",
    "# calculate amount of interest owed by each account based on their last repaid\n",
    "\n",
    "for i, borrower in enumerate(borrowers):\n",
    "    block_delta = starting_block - borrower[\"last_repaid\"]\n",
    "    interest_owed = block_delta * (borrower[\"borrow_amount\"] * interest)\n",
    "    borrowers[i][\"interest_owed\"] = interest_owed"
   ]
  },
  {
   "cell_type": "code",
   "execution_count": 11,
   "id": "23e87fb9",
   "metadata": {},
   "outputs": [
    {
     "name": "stdout",
     "output_type": "stream",
     "text": [
      "total interest: 120.0, average interest 12.0\n",
      "total borrowed: 1000, average borrowed 100.0\n",
      "total available: 9000\n",
      "total locked: 1000\n",
      "\n",
      "AVERAGES\n",
      "max repaid: 3\n",
      "min repaid: 3\n",
      "max repaid delta: 12\n",
      "min repaid delta: 12\n",
      "min interest owed: 12.0\n",
      "max interest owed: 12.0\n"
     ]
    }
   ],
   "source": [
    "interest_total = sum(borrower['interest_owed'] for borrower in borrowers)\n",
    "interest_average = interest_total / len(borrowers)\n",
    "\n",
    "borrow_total = sum(borrower['borrow_amount'] for borrower in borrowers)\n",
    "borrow_average = borrow_total / len(borrowers)\n",
    "\n",
    "print(f\"total interest: %s, average interest %s\" % (interest_total, interest_average))\n",
    "print(f\"total borrowed: %s, average borrowed %s\" % (borrow_total, borrow_average))\n",
    "\n",
    "print(f\"total available: %s\" % (staked_amount - borrow_total))\n",
    "print(f\"total locked: %s\" % borrow_total)\n",
    "\n",
    "## averages\n",
    "print(\"\")\n",
    "print(\"AVERAGES\")\n",
    "\n",
    "max_last_repaid = max(borrower['last_repaid'] for borrower in borrowers)\n",
    "min_last_repaid = min(int(borrower['last_repaid']) for borrower in borrowers)\n",
    "print(f\"max repaid: %s\" % max_last_repaid)\n",
    "print(f\"min repaid: %s\" % min_last_repaid)\n",
    "\n",
    "min_repaid_delta = starting_block - max_last_repaid\n",
    "max_repaid_delta = starting_block - min_last_repaid\n",
    "print(f\"max repaid delta: %s\" % max_repaid_delta)\n",
    "print(f\"min repaid delta: %s\" % min_repaid_delta)\n",
    "\n",
    "min_interest_owed = min_repaid_delta * (borrow_average * interest)\n",
    "max_interest_owed = max_repaid_delta * (borrow_average * interest)\n",
    "print(f\"min interest owed: %s\" % min_interest_owed)\n",
    "print(f\"max interest owed: %s\" % max_interest_owed)"
   ]
  },
  {
   "cell_type": "code",
   "execution_count": null,
   "id": "bd78f6cb",
   "metadata": {},
   "outputs": [],
   "source": []
  }
 ],
 "metadata": {
  "kernelspec": {
   "display_name": "Python 3 (ipykernel)",
   "language": "python",
   "name": "python3"
  },
  "language_info": {
   "codemirror_mode": {
    "name": "ipython",
    "version": 3
   },
   "file_extension": ".py",
   "mimetype": "text/x-python",
   "name": "python",
   "nbconvert_exporter": "python",
   "pygments_lexer": "ipython3",
   "version": "3.9.12"
  }
 },
 "nbformat": 4,
 "nbformat_minor": 5
}
