{
 "cells": [
  {
   "cell_type": "code",
   "execution_count": 21,
   "id": "aaf77162",
   "metadata": {},
   "outputs": [
    {
     "name": "stdout",
     "output_type": "stream",
     "text": [
      "total_staked: 74649\n",
      "total_borrowed: 30913\n",
      "total_frozen: 16050\n"
     ]
    }
   ],
   "source": [
    "import random\n",
    "\n",
    "\"\"\"\n",
    "- borrow_amount\n",
    "- last_repaid\n",
    "- total_staked\n",
    "- total_locked\n",
    "- staked\n",
    "\n",
    "\"\"\"\n",
    "overdue = 50\n",
    "stakers = [{\"staked_amount\": random.randint(25 * 100, 35 * 100) } for i in range(25)]\n",
    "\n",
    "for i in range(len(stakers)):\n",
    "    borrowers = [{\"borrow_amount\": random.randint(1, 100), \"last_repaid\": random.randint(1, overdue * 2)} for i in range(25)]\n",
    "    stakers[i][\"borrowers\"] = borrowers\n",
    "    stakers[i][\"locked\"] = sum([borrower[\"borrow_amount\"] for borrower in staker[\"borrowers\"]])\n",
    "    stakers[i][\"frozen\"] = sum([borrower[\"borrow_amount\"] if borrower[\"last_repaid\"] > overdue else 0 for borrower in borrowers])\n",
    "    \n",
    "total_staked = sum([staker[\"staked_amount\"] for staker in stakers])\n",
    "total_borrowed = sum([sum([borrower[\"borrow_amount\"] for borrower in staker[\"borrowers\"]]) for staker in stakers])\n",
    "total_frozen = sum([staker[\"frozen\"] for staker in stakers])\n",
    "\n",
    "print(f\"total_staked: {total_staked}\")\n",
    "print(f\"total_borrowed: {total_borrowed}\")\n",
    "print(f\"total_frozen: {total_frozen}\")"
   ]
  },
  {
   "cell_type": "code",
   "execution_count": 25,
   "id": "8bfba708",
   "metadata": {},
   "outputs": [],
   "source": [
    "\"\"\"\n",
    "Calculate multipliers the old way\n",
    "\n",
    "function _getRewardsMultiplier(\n",
    "    uint256 userStaked,\n",
    "    uint256 lockedStake,\n",
    "    uint256 totalFrozen_,\n",
    "    bool isMember_\n",
    ") private pure returns (uint256) {\n",
    "    if (!isMember_) {\n",
    "        return nonMemberRatio;\n",
    "    }\n",
    "        \n",
    "    if (userStaked == 0 || totalFrozen_ >= lockedStake || totalFrozen_ >= userStaked) {\n",
    "        return memberRatio;\n",
    "    }\n",
    "\n",
    "    uint256 effectiveLockedAmount = lockedStake - totalFrozen_;\n",
    "    uint256 effectiveStakeAmount = userStaked - totalFrozen_;\n",
    "\n",
    "    uint256 lendingRatio = effectiveLockedAmount.wadDiv(effectiveStakeAmount);\n",
    "\n",
    "    return lendingRatio + memberRatio;\n",
    "}\n",
    "\n",
    "\"\"\"\n",
    "member_ratio = 1\n",
    "\n",
    "def getRewardsMultiplier(staked, locked_stake, frozen_stake):\n",
    "    if staked == 0 or frozen_stake >= locked_stake or frozen_stake >= staked:\n",
    "        return member_ratio\n",
    "    \n",
    "    effective_locked_amount = locked_stake - frozen_stake\n",
    "    effective_stake_amount = staked - frozen_stake\n",
    "    \n",
    "    lending_ratio = effective_locked_amount / effective_stake_amount\n",
    "    \n",
    "    return lending_ratio + member_ratio\n",
    "\n",
    "for staker in stakers:\n",
    "    staker[\"old_multiplier\"] = getRewardsMultiplier(staker[\"staked_amount\"], staker[\"locked\"], staker[\"frozen\"])"
   ]
  },
  {
   "cell_type": "code",
   "execution_count": 91,
   "id": "73ceae07",
   "metadata": {},
   "outputs": [
    {
     "name": "stdout",
     "output_type": "stream",
     "text": [
      "total_coinage: 1576.5546569603027\n",
      "63.062186278412106 78.77753687648044 0.374602012120916\n",
      "63.062186278412106 50.37579178535749 0.14941361660817085\n",
      "63.062186278412106 94.59327941761816 0.5\n",
      "63.062186278412106 45.16618704377963 0.1081083190200245\n",
      "63.062186278412106 94.59327941761816 0.5\n",
      "63.062186278412106 76.52945771246051 0.35677770807526393\n",
      "63.062186278412106 59.73620578472935 0.22362935944688828\n",
      "63.062186278412106 31.531093139206053 0.0\n",
      "63.062186278412106 50.44653799766445 0.1499745408044445\n",
      "63.062186278412106 73.59476361812747 0.3335094528218169\n",
      "63.062186278412106 31.531093139206053 0.0\n",
      "63.062186278412106 94.59327941761816 0.5\n",
      "63.062186278412106 31.531093139206053 0.0\n",
      "63.062186278412106 41.849791399560154 0.08181367368709884\n",
      "63.062186278412106 44.5811813878223 0.10346999540264624\n",
      "63.062186278412106 70.20267639804567 0.3066146730792772\n",
      "63.062186278412106 94.59327941761816 0.5\n",
      "63.062186278412106 94.59327941761816 0.5\n",
      "63.062186278412106 31.531093139206053 0.0\n",
      "63.062186278412106 55.95983731424562 0.19368773600069575\n",
      "63.062186278412106 80.90393900097833 0.39146157765445194\n",
      "63.062186278412106 38.01933416025895 0.051443197611386944\n",
      "63.062186278412106 37.71508693302208 0.04903091819965155\n",
      "63.062186278412106 70.43776458586201 0.3084786124833002\n",
      "63.062186278412106 33.84379215931288 0.018336654313700265\n"
     ]
    }
   ],
   "source": [
    "\"\"\"\n",
    "Calculate multipliers the new way\n",
    "\n",
    "1 2 3 4 5 6 7 8 9\n",
    "    |   |       |\n",
    "    \n",
    "(5 - 3) / (9 - 3) = 0.16666\n",
    "\"\"\"\n",
    "import math\n",
    "\n",
    "# first we calculate each stakers coinage\n",
    "for staker in stakers:\n",
    "    staker[\"coinage\"] = sum([borrower[\"borrow_amount\"] / borrower[\"last_repaid\"]  for borrower in staker[\"borrowers\"]])\n",
    "\n",
    "total_coinage = sum([staker[\"coinage\"] for staker in stakers])\n",
    "print(f\"total_coinage: {total_coinage}\")\n",
    "\n",
    "def getRewardsMultiplierNew(coinage):\n",
    "    ave_coinage = total_coinage / len(stakers)\n",
    "    lo = ave_coinage - (ave_coinage / 2)\n",
    "    hi = ave_coinage + (ave_coinage / 2)\n",
    "    coinage = min(max(lo, coinage), hi)\n",
    "    \n",
    "    k = 0.5 * ((coinage - lo) / (hi - lo))\n",
    "    \n",
    "    print(ave_coinage, coinage, k)\n",
    "    return 1 + k\n",
    "    \n",
    "for staker in stakers:\n",
    "    staker[\"new_multiplier\"] = getRewardsMultiplierNew(staker[\"coinage\"])"
   ]
  },
  {
   "cell_type": "code",
   "execution_count": 105,
   "id": "20126dcd",
   "metadata": {},
   "outputs": [
    {
     "data": {
      "image/png": "[encoded data removed]",
      "text/plain": [
       "<Figure size 1080x576 with 1 Axes>"
      ]
     },
     "metadata": {
      "needs_background": "light"
     },
     "output_type": "display_data"
    }
   ],
   "source": [
    "import matplotlib.pyplot as plt\n",
    "\n",
    "debug = False\n",
    "plt.figure(figsize=(15,8))\n",
    "\n",
    "for i in range(0, len(stakers) * 2, 3):\n",
    "    plt.bar(i, stakers[int(i/3)]['old_multiplier'], 1, color=\"blue\")\n",
    "    plt.bar(i+1, stakers[int(i/3)]['new_multiplier'], 1, color=\"black\")\n",
    "    if debug:\n",
    "        print(\"------\")\n",
    "        print(f\"old_multiplier: {staker['old_multiplier']}\")\n",
    "        print(f\"new_multiplier: {staker['new_multiplier']}\")"
   ]
  },
  {
   "cell_type": "code",
   "execution_count": null,
   "id": "1b5e12af",
   "metadata": {},
   "outputs": [],
   "source": []
  },
  {
   "cell_type": "code",
   "execution_count": null,
   "id": "52206745",
   "metadata": {},
   "outputs": [],
   "source": []
  }
 ],
 "metadata": {
  "kernelspec": {
   "display_name": "Python 3 (ipykernel)",
   "language": "python",
   "name": "python3"
  },
  "language_info": {
   "codemirror_mode": {
    "name": "ipython",
    "version": 3
   },
   "file_extension": ".py",
   "mimetype": "text/x-python",
   "name": "python",
   "nbconvert_exporter": "python",
   "pygments_lexer": "ipython3",
   "version": "3.9.8"
  }
 },
 "nbformat": 4,
 "nbformat_minor": 5
}
