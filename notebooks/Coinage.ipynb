{
 "cells": [
  {
   "cell_type": "code",
   "execution_count": 268,
   "id": "aaf77162",
   "metadata": {},
   "outputs": [
    {
     "name": "stdout",
     "output_type": "stream",
     "text": [
      "total_staked: 735910771\n",
      "total_borrowed: 323733531\n",
      "total_frozen: 81588934\n"
     ]
    }
   ],
   "source": [
    "import random\n",
    "\n",
    "#random.seed(420)\n",
    "random.seed(1)\n",
    "\n",
    "\"\"\"\n",
    "- borrow_amount\n",
    "- last_repaid\n",
    "- total_staked\n",
    "- total_locked\n",
    "- staked\n",
    "\n",
    "\"\"\"\n",
    "maxBorrow = 1000000\n",
    "maxRepaid = 60 * 60 * 24 * 60 # 60 days\n",
    "overdue = maxRepaid * 0.75\n",
    "stakers = [{\"staked_amount\": random.randint(25 * maxBorrow, 35 * maxBorrow) } for i in range(25)]\n",
    "\n",
    "for i in range(len(stakers)):\n",
    "    borrowers = [{\"borrow_amount\": random.randint(1, maxBorrow), \"last_repaid\": random.randint(1, maxRepaid)} for i in range(25)]\n",
    "    stakers[i][\"borrowers\"] = borrowers\n",
    "    stakers[i][\"locked\"] = sum([borrower[\"borrow_amount\"] for borrower in borrowers])\n",
    "    stakers[i][\"frozen\"] = sum([borrower[\"borrow_amount\"] if borrower[\"last_repaid\"] > overdue else 0 for borrower in borrowers])\n",
    "    \n",
    "total_staked = sum([staker[\"staked_amount\"] for staker in stakers])\n",
    "total_borrowed = sum([sum([borrower[\"borrow_amount\"] for borrower in staker[\"borrowers\"]]) for staker in stakers])\n",
    "total_frozen = sum([staker[\"frozen\"] for staker in stakers])\n",
    "\n",
    "print(f\"total_staked: {total_staked}\")\n",
    "print(f\"total_borrowed: {total_borrowed}\")\n",
    "print(f\"total_frozen: {total_frozen}\")"
   ]
  },
  {
   "cell_type": "code",
   "execution_count": 269,
   "id": "8bfba708",
   "metadata": {},
   "outputs": [],
   "source": [
    "\"\"\"\n",
    "Calculate multipliers the old way\n",
    "\n",
    "function _getRewardsMultiplier(\n",
    "    uint256 userStaked,\n",
    "    uint256 lockedStake,\n",
    "    uint256 totalFrozen_,\n",
    "    bool isMember_\n",
    ") private pure returns (uint256) {\n",
    "    if (!isMember_) {\n",
    "        return nonMemberRatio;\n",
    "    }\n",
    "        \n",
    "    if (userStaked == 0 || totalFrozen_ >= lockedStake || totalFrozen_ >= userStaked) {\n",
    "        return memberRatio;\n",
    "    }\n",
    "\n",
    "    uint256 effectiveLockedAmount = lockedStake - totalFrozen_;\n",
    "    uint256 effectiveStakeAmount = userStaked - totalFrozen_;\n",
    "\n",
    "    uint256 lendingRatio = effectiveLockedAmount.wadDiv(effectiveStakeAmount);\n",
    "\n",
    "    return lendingRatio + memberRatio;\n",
    "}\n",
    "\n",
    "\"\"\"\n",
    "member_ratio = 1\n",
    "\n",
    "def getRewardsMultiplier(staked, locked_stake, frozen_stake):\n",
    "    if staked == 0 or frozen_stake >= locked_stake or frozen_stake >= staked:\n",
    "        return member_ratio\n",
    "    \n",
    "    effective_locked_amount = locked_stake - frozen_stake\n",
    "    effective_stake_amount = staked - frozen_stake\n",
    "    \n",
    "    lending_ratio = effective_locked_amount / effective_stake_amount\n",
    "    \n",
    "    return lending_ratio + member_ratio\n",
    "\n",
    "for staker in stakers:\n",
    "    staker[\"old_multiplier\"] = getRewardsMultiplier(staker[\"staked_amount\"], staker[\"locked\"], staker[\"frozen\"])"
   ]
  },
  {
   "cell_type": "code",
   "execution_count": 278,
   "id": "73ceae07",
   "metadata": {},
   "outputs": [
    {
     "name": "stdout",
     "output_type": "stream",
     "text": [
      "total_coinage: 376.4075883255024\n"
     ]
    }
   ],
   "source": [
    "\"\"\"\n",
    "Calculate multipliers the new way\n",
    "\n",
    "1 2 3 4 5 6 7 8 9\n",
    "    |   |       |\n",
    "    \n",
    "(5 - 3) / (9 - 3) = 0.16666\n",
    "\"\"\"\n",
    "import math\n",
    "\n",
    "# first we calculate each stakers coinage\n",
    "for staker in stakers:\n",
    "    staker[\"coinage\"] = sum([borrower[\"borrow_amount\"] / borrower[\"last_repaid\"] for borrower in staker[\"borrowers\"]])\n",
    "\n",
    "total_coinage = sum([staker[\"coinage\"] for staker in stakers])\n",
    "print(f\"total_coinage: {total_coinage}\")\n",
    "\n",
    "def getRewardsMultiplierNew(coinage, staked, locked):\n",
    "    # TODO: what about staked vs total staked\n",
    "    # TODO: what about locked value\n",
    "    ave_coinage = total_coinage / len(stakers)\n",
    "    lo = ave_coinage - ave_coinage\n",
    "    hi = ave_coinage + ave_coinage\n",
    "    coinage = min(max(lo, coinage), hi)\n",
    "    \n",
    "    k = ((coinage - lo) / (hi - lo))\n",
    "    j = locked / staked\n",
    "    \n",
    "    return 1 + 0.5 * (k + j)\n",
    "    \n",
    "for staker in stakers:\n",
    "    staker[\"new_multiplier\"] = getRewardsMultiplierNew(staker[\"coinage\"], staker[\"staked_amount\"], staker[\"locked\"])"
   ]
  },
  {
   "cell_type": "code",
   "execution_count": 279,
   "id": "20126dcd",
   "metadata": {},
   "outputs": [
    {
     "name": "stdout",
     "output_type": "stream",
     "text": [
      "diffs: 9\n",
      "----\n",
      "staked: 27254257, locked: 15919119, frozen: 4957251\n",
      "staked: 25426910, locked: 14911059, frozen: 1942978\n",
      "----\n",
      "staked: 32541208, locked: 14328703, frozen: 3815561\n",
      "staked: 33312021, locked: 13516440, frozen: 4303443\n",
      "----\n",
      "staked: 31368886, locked: 11083207, frozen: 4470980\n",
      "staked: 32922960, locked: 9943454, frozen: 3190271\n",
      "----\n",
      "staked: 32260626, locked: 12991113, frozen: 3882743\n",
      "staked: 31539906, locked: 12938560, frozen: 881768\n",
      "----\n",
      "staked: 34917908, locked: 11413637, frozen: 2447630\n",
      "staked: 28837993, locked: 11356687, frozen: 2376839\n",
      "----\n",
      "staked: 26715087, locked: 12665255, frozen: 3992738\n",
      "staked: 34917908, locked: 11413637, frozen: 2447630\n",
      "----\n",
      "staked: 25374502, locked: 14765794, frozen: 3097434\n",
      "staked: 25513214, locked: 11925186, frozen: 4702099\n",
      "----\n"
     ]
    },
    {
     "data": {
      "image/png": "[encoded data removed]",
      "text/plain": [
       "<Figure size 1080x576 with 1 Axes>"
      ]
     },
     "metadata": {
      "needs_background": "light"
     },
     "output_type": "display_data"
    }
   ],
   "source": [
    "import matplotlib.pyplot as plt\n",
    "\n",
    "debug = False\n",
    "plt.figure(figsize=(15,8))\n",
    "\n",
    "diffs=[]\n",
    "\n",
    "for i in range(0, len(stakers) * 3, 3):\n",
    "    idx = int(i/3)\n",
    "    \n",
    "    old = stakers[idx]['old_multiplier']\n",
    "    old_b = stakers[idx-1]['old_multiplier']\n",
    "\n",
    "    new = stakers[idx]['new_multiplier']\n",
    "    new_b = stakers[idx-1]['new_multiplier']\n",
    "    \n",
    "    color=\"black\"\n",
    "    if (old > old_b and new < new_b) or (old < old_b and new > new_b):\n",
    "        diffs.append({ \"c\": stakers[idx], \"p\": stakers[idx-1]})\n",
    "        color=\"red\"\n",
    "            \n",
    "    plt.bar(i, old, 1, color=\"blue\")\n",
    "    plt.bar(i+1, new, 1, color=color)\n",
    "    if debug:\n",
    "        print(\"------\")\n",
    "        print(f\"old_multiplier: {staker['old_multiplier']}\")\n",
    "        print(f\"new_multiplier: {staker['new_multiplier']}\")\n",
    "\n",
    "print(f\"diffs: {len(errors)}\")\n",
    "print(\"----\")\n",
    "for diff in diffs:\n",
    "    print(f\"staked: {diff['c']['staked_amount']}, locked: {diff['c']['locked']}, frozen: {diff['c']['frozen']}\")\n",
    "    print(f\"staked: {diff['p']['staked_amount']}, locked: {diff['p']['locked']}, frozen: {diff['p']['frozen']}\")\n",
    "    print(\"----\")"
   ]
  },
  {
   "cell_type": "code",
   "execution_count": null,
   "id": "1b5e12af",
   "metadata": {},
   "outputs": [],
   "source": []
  },
  {
   "cell_type": "code",
   "execution_count": null,
   "id": "ce42362d",
   "metadata": {},
   "outputs": [],
   "source": []
  }
 ],
 "metadata": {
  "kernelspec": {
   "display_name": "Python 3 (ipykernel)",
   "language": "python",
   "name": "python3"
  },
  "language_info": {
   "codemirror_mode": {
    "name": "ipython",
    "version": 3
   },
   "file_extension": ".py",
   "mimetype": "text/x-python",
   "name": "python",
   "nbconvert_exporter": "python",
   "pygments_lexer": "ipython3",
   "version": "3.9.8"
  }
 },
 "nbformat": 4,
 "nbformat_minor": 5
}
