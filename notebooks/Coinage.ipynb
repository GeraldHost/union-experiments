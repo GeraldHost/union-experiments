{
 "cells": [
  {
   "cell_type": "code",
   "execution_count": 184,
   "id": "aaf77162",
   "metadata": {},
   "outputs": [
    {
     "name": "stdout",
     "output_type": "stream",
     "text": [
      "total_staked: 75076\n",
      "total_borrowed: 31730\n",
      "total_frozen: 16668\n"
     ]
    }
   ],
   "source": [
    "import random\n",
    "\n",
    "#random.seed(420) # 8 errors\n",
    "random.seed(1) # 13 errors\n",
    "\n",
    "\"\"\"\n",
    "- borrow_amount\n",
    "- last_repaid\n",
    "- total_staked\n",
    "- total_locked\n",
    "- staked\n",
    "\n",
    "\"\"\"\n",
    "overdue = 75\n",
    "stakers = [{\"staked_amount\": random.randint(25 * 100, 35 * 100) } for i in range(25)]\n",
    "\n",
    "for i in range(len(stakers)):\n",
    "    borrowers = [{\"borrow_amount\": random.randint(1, 100), \"last_repaid\": random.randint(1, overdue * 2)} for i in range(25)]\n",
    "    stakers[i][\"borrowers\"] = borrowers\n",
    "    stakers[i][\"locked\"] = sum([borrower[\"borrow_amount\"] for borrower in borrowers])\n",
    "    stakers[i][\"frozen\"] = sum([borrower[\"borrow_amount\"] if borrower[\"last_repaid\"] > overdue else 0 for borrower in borrowers])\n",
    "    \n",
    "total_staked = sum([staker[\"staked_amount\"] for staker in stakers])\n",
    "total_borrowed = sum([sum([borrower[\"borrow_amount\"] for borrower in staker[\"borrowers\"]]) for staker in stakers])\n",
    "total_frozen = sum([staker[\"frozen\"] for staker in stakers])\n",
    "\n",
    "print(f\"total_staked: {total_staked}\")\n",
    "print(f\"total_borrowed: {total_borrowed}\")\n",
    "print(f\"total_frozen: {total_frozen}\")"
   ]
  },
  {
   "cell_type": "code",
   "execution_count": 185,
   "id": "8bfba708",
   "metadata": {},
   "outputs": [],
   "source": [
    "\"\"\"\n",
    "Calculate multipliers the old way\n",
    "\n",
    "function _getRewardsMultiplier(\n",
    "    uint256 userStaked,\n",
    "    uint256 lockedStake,\n",
    "    uint256 totalFrozen_,\n",
    "    bool isMember_\n",
    ") private pure returns (uint256) {\n",
    "    if (!isMember_) {\n",
    "        return nonMemberRatio;\n",
    "    }\n",
    "        \n",
    "    if (userStaked == 0 || totalFrozen_ >= lockedStake || totalFrozen_ >= userStaked) {\n",
    "        return memberRatio;\n",
    "    }\n",
    "\n",
    "    uint256 effectiveLockedAmount = lockedStake - totalFrozen_;\n",
    "    uint256 effectiveStakeAmount = userStaked - totalFrozen_;\n",
    "\n",
    "    uint256 lendingRatio = effectiveLockedAmount.wadDiv(effectiveStakeAmount);\n",
    "\n",
    "    return lendingRatio + memberRatio;\n",
    "}\n",
    "\n",
    "\"\"\"\n",
    "member_ratio = 1\n",
    "\n",
    "def getRewardsMultiplier(staked, locked_stake, frozen_stake):\n",
    "    if staked == 0 or frozen_stake >= locked_stake or frozen_stake >= staked:\n",
    "        return member_ratio\n",
    "    \n",
    "    effective_locked_amount = locked_stake - frozen_stake\n",
    "    effective_stake_amount = staked - frozen_stake\n",
    "    \n",
    "    lending_ratio = effective_locked_amount / effective_stake_amount\n",
    "    \n",
    "    return lending_ratio + member_ratio\n",
    "\n",
    "for staker in stakers:\n",
    "    staker[\"old_multiplier\"] = getRewardsMultiplier(staker[\"staked_amount\"], staker[\"locked\"], staker[\"frozen\"])"
   ]
  },
  {
   "cell_type": "code",
   "execution_count": 186,
   "id": "73ceae07",
   "metadata": {},
   "outputs": [
    {
     "name": "stdout",
     "output_type": "stream",
     "text": [
      "total_coinage: 1249.640840030525\n"
     ]
    }
   ],
   "source": [
    "\"\"\"\n",
    "Calculate multipliers the new way\n",
    "\n",
    "1 2 3 4 5 6 7 8 9\n",
    "    |   |       |\n",
    "    \n",
    "(5 - 3) / (9 - 3) = 0.16666\n",
    "\"\"\"\n",
    "import math\n",
    "\n",
    "# first we calculate each stakers coinage\n",
    "for staker in stakers:\n",
    "    staker[\"coinage\"] = sum([borrower[\"borrow_amount\"] / borrower[\"last_repaid\"] for borrower in staker[\"borrowers\"]])\n",
    "\n",
    "total_coinage = sum([staker[\"coinage\"] for staker in stakers])\n",
    "print(f\"total_coinage: {total_coinage}\")\n",
    "\n",
    "def getRewardsMultiplierNew(coinage):\n",
    "    ave_coinage = total_coinage / len(stakers)\n",
    "    lo = ave_coinage - (ave_coinage / 2)\n",
    "    hi = ave_coinage + (ave_coinage / 2)\n",
    "    coinage = min(max(lo, coinage), hi)\n",
    "    \n",
    "    k =  0.5 * ((coinage - lo) / (hi - lo))\n",
    "    return 1 + k\n",
    "    \n",
    "for staker in stakers:\n",
    "    staker[\"new_multiplier\"] = getRewardsMultiplierNew(staker[\"coinage\"])"
   ]
  },
  {
   "cell_type": "code",
   "execution_count": 187,
   "id": "20126dcd",
   "metadata": {},
   "outputs": [
    {
     "name": "stdout",
     "output_type": "stream",
     "text": [
      "errors: 13\n",
      "staked: 3367, locked: 1209, frozen: 1209\n",
      "staked: 3321, locked: 1233, frozen: 1233\n",
      "staked: 3282, locked: 985, frozen: 985\n",
      "staked: 2564, locked: 1039, frozen: 1039\n",
      "staked: 3279, locked: 1219, frozen: 1219\n",
      "staked: 2960, locked: 1421, frozen: 1421\n",
      "staked: 2983, locked: 1140, frozen: 1140\n",
      "staked: 3167, locked: 1331, frozen: 1331\n",
      "staked: 2714, locked: 1571, frozen: 1571\n",
      "staked: 2596, locked: 1304, frozen: 1304\n",
      "staked: 2529, locked: 1477, frozen: 1477\n",
      "staked: 2899, locked: 1379, frozen: 1379\n",
      "staked: 2943, locked: 1474, frozen: 1474\n"
     ]
    },
    {
     "data": {
      "image/png": "[encoded data removed]",
      "text/plain": [
       "<Figure size 1080x576 with 1 Axes>"
      ]
     },
     "metadata": {
      "needs_background": "light"
     },
     "output_type": "display_data"
    }
   ],
   "source": [
    "import matplotlib.pyplot as plt\n",
    "\n",
    "debug = False\n",
    "plt.figure(figsize=(15,8))\n",
    "\n",
    "errors=[]\n",
    "\n",
    "for i in range(0, len(stakers) * 3, 3):\n",
    "    idx = int(i/3)\n",
    "    \n",
    "    old = stakers[idx]['old_multiplier']\n",
    "    old_b = stakers[idx-1]['old_multiplier']\n",
    "\n",
    "    new = stakers[idx]['new_multiplier']\n",
    "    new_b = stakers[idx-1]['new_multiplier']\n",
    "    \n",
    "    color=\"black\"\n",
    "    if (old > old_b and new < new_b) or (old < old_b and new > new_b):\n",
    "        errors.append(stakers[idx])\n",
    "        color=\"red\"\n",
    "            \n",
    "    plt.bar(i, old, 1, color=\"blue\")\n",
    "    plt.bar(i+1, new, 1, color=color)\n",
    "    if debug:\n",
    "        print(\"------\")\n",
    "        print(f\"old_multiplier: {staker['old_multiplier']}\")\n",
    "        print(f\"new_multiplier: {staker['new_multiplier']}\")\n",
    "\n",
    "print(f\"errors: {len(errors)}\")\n",
    "for error in errors:\n",
    "    print(f\"staked: {error['staked_amount']}, locked: {error['locked']}, frozen: {error['locked']}\")"
   ]
  },
  {
   "cell_type": "code",
   "execution_count": null,
   "id": "1b5e12af",
   "metadata": {},
   "outputs": [],
   "source": []
  },
  {
   "cell_type": "code",
   "execution_count": null,
   "id": "0b859593",
   "metadata": {},
   "outputs": [],
   "source": []
  }
 ],
 "metadata": {
  "kernelspec": {
   "display_name": "Python 3 (ipykernel)",
   "language": "python",
   "name": "python3"
  },
  "language_info": {
   "codemirror_mode": {
    "name": "ipython",
    "version": 3
   },
   "file_extension": ".py",
   "mimetype": "text/x-python",
   "name": "python",
   "nbconvert_exporter": "python",
   "pygments_lexer": "ipython3",
   "version": "3.9.8"
  }
 },
 "nbformat": 4,
 "nbformat_minor": 5
}
